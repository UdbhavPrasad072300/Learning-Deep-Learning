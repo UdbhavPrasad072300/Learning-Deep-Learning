{
 "cells": [
  {
   "cell_type": "markdown",
   "metadata": {},
   "source": [
    "# Convolutional Autoencoder"
   ]
  },
  {
   "cell_type": "code",
   "execution_count": 1,
   "metadata": {},
   "outputs": [],
   "source": [
    "import torch\n",
    "import torch.nn as nn\n",
    "import torch.nn.functional as F\n",
    "import torch.optim as optim\n",
    "\n",
    "import torchvision\n",
    "import torchvision.transforms as transforms\n",
    "from torch.utils.data import Dataset, random_split, DataLoader\n",
    "from torchsummary import summary\n",
    "\n",
    "import numpy as np\n",
    "import pandas as pd\n",
    "import matplotlib.pyplot as plt\n",
    "\n",
    "import os\n",
    "import math\n",
    "from PIL import Image\n",
    "from PIL import Image\n",
    "from IPython.display import display\n",
    "import glob"
   ]
  },
  {
   "cell_type": "code",
   "execution_count": 2,
   "metadata": {},
   "outputs": [
    {
     "name": "stdout",
     "output_type": "stream",
     "text": [
      "cuda\n"
     ]
    }
   ],
   "source": [
    "device = torch.device(\"cuda\" if torch.cuda.is_available() else \"cpu\")\n",
    "print(device)"
   ]
  },
  {
   "cell_type": "code",
   "execution_count": 3,
   "metadata": {},
   "outputs": [],
   "source": [
    "class Autoencoder(nn.Module):\n",
    "    def __init__(self):\n",
    "        super(Autoencoder, self).__init__()\n",
    "        self.encoder = nn.Sequential(\n",
    "            \n",
    "            nn.Conv2d(in_channels=3, out_channels=6, kernel_size=4),\n",
    "            nn.ReLU(True),\n",
    "            #nn.MaxPool2d(3),\n",
    "            \n",
    "            nn.Conv2d(in_channels=6, out_channels=12, kernel_size=4),\n",
    "            nn.ReLU(True),\n",
    "            #nn.MaxPool2d(3),\n",
    "            \n",
    "            nn.Conv2d(in_channels=12, out_channels=24, kernel_size=4),\n",
    "            nn.ReLU(True),\n",
    "            #nn.MaxPool2d(3),\n",
    "            \n",
    "            nn.Conv2d(in_channels=24, out_channels=48, kernel_size=4),\n",
    "            nn.ReLU(True),\n",
    "            #nn.MaxPool2d(3)\n",
    "            \n",
    "            nn.Conv2d(in_channels=48, out_channels=96, kernel_size=4),\n",
    "            nn.ReLU(True),\n",
    "        )\n",
    "        self.decoder = nn.Sequential(\n",
    "            nn.ConvTranspose2d(in_channels=96, out_channels=48, kernel_size=4),\n",
    "            nn.ReLU(True),\n",
    "            \n",
    "            #nn.UpsamplingNearest2d(19),\n",
    "            nn.ConvTranspose2d(in_channels=48, out_channels=24, kernel_size=4),\n",
    "            nn.ReLU(True),\n",
    "            \n",
    "            #nn.UpsamplingNearest2d(56),\n",
    "            nn.ConvTranspose2d(in_channels=24, out_channels=12, kernel_size=4),\n",
    "            nn.ReLU(True),\n",
    "            \n",
    "            #nn.UpsamplingNearest2d(168),\n",
    "            nn.ConvTranspose2d(in_channels=12, out_channels=6, kernel_size=4),\n",
    "            nn.ReLU(True),\n",
    "            \n",
    "            #nn.UpsamplingNearest2d(254),\n",
    "            nn.ConvTranspose2d(in_channels=6, out_channels=3, kernel_size=4),\n",
    "            nn.ReLU(True)\n",
    "        )\n",
    "\n",
    "    def forward(self, input):\n",
    "        return self.decoder(self.encoder(input))"
   ]
  },
  {
   "cell_type": "code",
   "execution_count": 4,
   "metadata": {},
   "outputs": [
    {
     "name": "stdout",
     "output_type": "stream",
     "text": [
      "----------------------------------------------------------------\n",
      "        Layer (type)               Output Shape         Param #\n",
      "================================================================\n",
      "            Conv2d-1          [-1, 6, 253, 253]             294\n",
      "              ReLU-2          [-1, 6, 253, 253]               0\n",
      "            Conv2d-3         [-1, 12, 250, 250]           1,164\n",
      "              ReLU-4         [-1, 12, 250, 250]               0\n",
      "            Conv2d-5         [-1, 24, 247, 247]           4,632\n",
      "              ReLU-6         [-1, 24, 247, 247]               0\n",
      "            Conv2d-7         [-1, 48, 244, 244]          18,480\n",
      "              ReLU-8         [-1, 48, 244, 244]               0\n",
      "            Conv2d-9         [-1, 96, 241, 241]          73,824\n",
      "             ReLU-10         [-1, 96, 241, 241]               0\n",
      "  ConvTranspose2d-11         [-1, 48, 244, 244]          73,776\n",
      "             ReLU-12         [-1, 48, 244, 244]               0\n",
      "  ConvTranspose2d-13         [-1, 24, 247, 247]          18,456\n",
      "             ReLU-14         [-1, 24, 247, 247]               0\n",
      "  ConvTranspose2d-15         [-1, 12, 250, 250]           4,620\n",
      "             ReLU-16         [-1, 12, 250, 250]               0\n",
      "  ConvTranspose2d-17          [-1, 6, 253, 253]           1,158\n",
      "             ReLU-18          [-1, 6, 253, 253]               0\n",
      "  ConvTranspose2d-19          [-1, 3, 256, 256]             291\n",
      "             ReLU-20          [-1, 3, 256, 256]               0\n",
      "================================================================\n",
      "Total params: 196,695\n",
      "Trainable params: 196,695\n",
      "Non-trainable params: 0\n",
      "----------------------------------------------------------------\n",
      "Input size (MB): 0.75\n",
      "Forward/backward pass size (MB): 254.58\n",
      "Params size (MB): 0.75\n",
      "Estimated Total Size (MB): 256.08\n",
      "----------------------------------------------------------------\n"
     ]
    }
   ],
   "source": [
    "model = Autoencoder()\n",
    "model.to(device)\n",
    "criterion = nn.MSELoss()\n",
    "optimizer = optim.RMSprop(model.parameters(), lr=0.001)\n",
    "summary(model, input_size=(3, 256, 256))"
   ]
  },
  {
   "cell_type": "code",
   "execution_count": null,
   "metadata": {},
   "outputs": [],
   "source": [
    "n_epochs = 80\n",
    "for epoch in range(n_epochs):\n",
    "    total_loss = 0\n",
    "    for x, y in dataITER:\n",
    "        x = (x).cuda()\n",
    "        y = (y).cuda()\n",
    "        model.zero_grad()\n",
    "        y_pred = model(x)\n",
    "        loss = criterion(y_pred, y)\n",
    "        loss.backward()\n",
    "        optimizer.step()\n",
    "        total_loss += loss\n",
    "    print(\"Epoch: \", epoch+1, \"| Loss: \", float(loss))\n",
    "    model.to(\"cpu\")\n",
    "    display(displayingPIL((model(X_train[1].unsqueeze(0))).squeeze(0)))\n",
    "    model.to(device)"
   ]
  }
 ],
 "metadata": {
  "kernelspec": {
   "display_name": "Python 3",
   "language": "python",
   "name": "python3"
  },
  "language_info": {
   "codemirror_mode": {
    "name": "ipython",
    "version": 3
   },
   "file_extension": ".py",
   "mimetype": "text/x-python",
   "name": "python",
   "nbconvert_exporter": "python",
   "pygments_lexer": "ipython3",
   "version": "3.7.7"
  }
 },
 "nbformat": 4,
 "nbformat_minor": 4
}
