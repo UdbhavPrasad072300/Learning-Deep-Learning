{
 "cells": [
  {
   "cell_type": "markdown",
   "metadata": {},
   "source": [
    "# Perceptron in PyTorch"
   ]
  },
  {
   "cell_type": "markdown",
   "metadata": {},
   "source": [
    "A Perceptron is just one linear layer <br>\n",
    "This produces one output <br>"
   ]
  },
  {
   "cell_type": "markdown",
   "metadata": {},
   "source": [
    "$ y=f(wx+b)$"
   ]
  },
  {
   "cell_type": "code",
   "execution_count": 1,
   "metadata": {},
   "outputs": [],
   "source": [
    "import torch\n",
    "import torch.nn as nn\n",
    "\n",
    "class Perceptron(nn.Module):\n",
    "    def __init__(self, input_dim): #input_dim is an int that denotes the sizse of the input features\n",
    "        super(Perceptron, self).__init__()\n",
    "        self.fc1 = nn.Linear(input_dim, 1)\n",
    "    def forward(self, x_in): #overriding the forward method; \n",
    "                             #x_in is a Input data torch Tensor (x_in.shape() is (batch, num_features) )\n",
    "        return(torch.sigmoid(self.fc1(x_in)).squeeze()) #Activation Function is sigmoid"
   ]
  },
  {
   "cell_type": "code",
   "execution_count": null,
   "metadata": {},
   "outputs": [],
   "source": [
    "# each epoch is a complete pass over the training data\n",
    "for epoch_i in range(n_epochs):\n",
    "# the inner loop is over the batches in the dataset\n",
    "    for batch_i in range(n_batches):\n",
    "# Step 0: Get the data\n",
    "        x_data, y_target = get_toy_data(batch_size) #Error here because no toy data\n",
    "# Step 1: Clear the gradients\n",
    "        perceptron.zero_grad()\n",
    "# Step 2: Compute the forward pass of the model\n",
    "        y_pred = perceptron(x_data, apply_sigmoid=True)\n",
    "# Step 3: Compute the loss value that we wish to optimize\n",
    "        loss = bce_loss(y_pred, y_target)\n",
    "# Step 4: Propagate the loss signal backward\n",
    "        loss.backward()\n",
    "# Step 5: Trigger the optimizer to perform one update\n",
    "        optimizer.step()"
   ]
  },
  {
   "cell_type": "code",
   "execution_count": null,
   "metadata": {},
   "outputs": [],
   "source": []
  }
 ],
 "metadata": {
  "kernelspec": {
   "display_name": "Python 3",
   "language": "python",
   "name": "python3"
  },
  "language_info": {
   "codemirror_mode": {
    "name": "ipython",
    "version": 3
   },
   "file_extension": ".py",
   "mimetype": "text/x-python",
   "name": "python",
   "nbconvert_exporter": "python",
   "pygments_lexer": "ipython3",
   "version": "3.7.7"
  }
 },
 "nbformat": 4,
 "nbformat_minor": 4
}
