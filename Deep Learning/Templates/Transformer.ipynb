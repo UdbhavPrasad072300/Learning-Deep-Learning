{
 "cells": [
  {
   "cell_type": "code",
   "execution_count": 1,
   "metadata": {},
   "outputs": [],
   "source": [
    "import torch \n",
    "import torch.nn as nn\n",
    "import torch.nn.functional as F\n",
    "from torch.utils.data import Dataset, random_split, DataLoader"
   ]
  },
  {
   "cell_type": "code",
   "execution_count": 2,
   "metadata": {},
   "outputs": [
    {
     "name": "stdout",
     "output_type": "stream",
     "text": [
      "cuda\n"
     ]
    }
   ],
   "source": [
    "device = torch.device(\"cuda\" if torch.cuda.is_available() else \"cpu\")\n",
    "print(device)"
   ]
  },
  {
   "cell_type": "code",
   "execution_count": 3,
   "metadata": {},
   "outputs": [],
   "source": [
    "BATCH_SIZE = 64\n",
    "NUM_EPOCHES = 2\n",
    "LR = 1e-5"
   ]
  },
  {
   "cell_type": "code",
   "execution_count": 4,
   "metadata": {},
   "outputs": [],
   "source": [
    "class PositionalEncoding(nn.Module):\n",
    "    def __init__(self, max_seq_len=2000, embedding_size=300, dropout=0.2, device=\"cpu\"):\n",
    "        super(PositionalEncoding, self).__init__()\n",
    "        import math\n",
    "\n",
    "        self.dropout = nn.Dropout(p=dropout)\n",
    "        \n",
    "        self.pe_matrix = torch.zeros(max_seq_len, embedding_size).to(device)\n",
    "        \n",
    "        position = torch.arange(0, max_seq_len, dtype=torch.float).unsqueeze(1)\n",
    "        div_term = torch.exp(torch.arange(0, embedding_size, 2).float() * (-math.log(10000.0) / embedding_size))\n",
    "        self.pe_matrix[:, 0::2] = torch.sin(position * div_term)\n",
    "        self.pe_matrix[:, 1::2] = torch.cos(position * div_term)\n",
    "\n",
    "        self.pe_matrix = self.pe_matrix.unsqueeze(1)\n",
    "        \n",
    "    def forward(self, x):        \n",
    "        x = x + self.pe_matrix[:x.size(0), :]\n",
    "        x = self.dropout(x)\n",
    "        return x"
   ]
  },
  {
   "cell_type": "code",
   "execution_count": 5,
   "metadata": {},
   "outputs": [],
   "source": [
    "class Transformer(nn.Module):\n",
    "    def __init__(self, s_vocab_size, t_vocab_size, embed_size, num_head, num_ff, encode_layers, decode_layers, dropout=0.2, device=\"cpu\"):\n",
    "        super(Transformer, self).__init__()\n",
    "        \n",
    "        self.s_vocab_size = s_vocab_size\n",
    "        self.t_vocab_size = t_vocab_size\n",
    "        self.embed_size = embed_size\n",
    "        self.num_head = num_head\n",
    "        self.num_ff = num_ff\n",
    "        self.encoder_num_layers = encode_layers\n",
    "        self.decoder_num_layers = decode_layers\n",
    "        self.dropout = dropout\n",
    "        self.device = device\n",
    "        \n",
    "        self.encoder_embed = nn.Embedding(self.s_vocab_size, embed_size)\n",
    "        self.decoder_embed = nn.Embedding(self.t_vocab_size, embed_size)\n",
    "        self.encoder_positional_encoding = PositionalEncoding(self.s_vocab_size, self.embed_size, device=device)\n",
    "        self.decoder_positional_encoding = PositionalEncoding(self.t_vocab_size, self.embed_size, device=device)\n",
    "        \n",
    "        self.encoder_layer = nn.TransformerEncoderLayer(self.embed_size, self.num_head, self.num_ff, dropout=self.dropout)\n",
    "        self.encoder = nn.TransformerEncoder(self.encoder_layer, self.encoder_num_layers)\n",
    "        \n",
    "        self.decoder_layer = nn.TransformerDecoderLayer(self.embed_size, self.num_head, self.num_ff, dropout=self.dropout)\n",
    "        self.decoder = nn.TransformerDecoder(self.decoder_layer, self.decoder_num_layers)\n",
    "        \n",
    "        self.final = nn.Linear(self.embed_size, self.t_vocab_size)\n",
    "        self.log_softmax = nn.LogSoftmax()\n",
    "        \n",
    "    def forward(self, x, y):\n",
    "        x = self.encoder_embed(x) * math.sqrt(self.embed_size)\n",
    "        print(\"x - Embedding\", x.size())\n",
    "        y = self.decoder_embed(y) * math.sqrt(self.embed_size)\n",
    "        print(\"y - Embedding\", y.size())\n",
    "        \n",
    "        x = self.encoder_positional_encoding(x)\n",
    "        print(\"x - Encoder Positional Encoding\", x.size())\n",
    "        y = self.decoder_positional_encoding(y)\n",
    "        print(\"y - Decoder Positional Encoding\", y.size())\n",
    "        \n",
    "        memory = self.encoder(x)\n",
    "        print(\"memory size: \", memory.size())\n",
    "        out = self.decoder(y, memory)\n",
    "        print(\"out decoder size: \", out.size())\n",
    "        x = self.final(out)\n",
    "        print(\"final output size\", x.size())\n",
    "        x = self.log_softmax(x)\n",
    "        return x"
   ]
  },
  {
   "cell_type": "code",
   "execution_count": 6,
   "metadata": {},
   "outputs": [],
   "source": [
    "source_vocab_size = 20000 #len(TEXT.vocab.stoi)\n",
    "target_vocab_size = 5 #len(LABEL.vocab.stoi)\n",
    "embed_size = 300\n",
    "num_head = 3\n",
    "num_ff = 300\n",
    "encoder_layers = 1\n",
    "decoder_layers = 1"
   ]
  },
  {
   "cell_type": "code",
   "execution_count": 7,
   "metadata": {},
   "outputs": [
    {
     "data": {
      "text/plain": [
       "Transformer(\n",
       "  (encoder_embed): Embedding(20000, 300)\n",
       "  (decoder_embed): Embedding(5, 300)\n",
       "  (encoder_positional_encoding): PositionalEncoding(\n",
       "    (dropout): Dropout(p=0.2, inplace=False)\n",
       "  )\n",
       "  (decoder_positional_encoding): PositionalEncoding(\n",
       "    (dropout): Dropout(p=0.2, inplace=False)\n",
       "  )\n",
       "  (encoder_layer): TransformerEncoderLayer(\n",
       "    (self_attn): MultiheadAttention(\n",
       "      (out_proj): _LinearWithBias(in_features=300, out_features=300, bias=True)\n",
       "    )\n",
       "    (linear1): Linear(in_features=300, out_features=300, bias=True)\n",
       "    (dropout): Dropout(p=0.2, inplace=False)\n",
       "    (linear2): Linear(in_features=300, out_features=300, bias=True)\n",
       "    (norm1): LayerNorm((300,), eps=1e-05, elementwise_affine=True)\n",
       "    (norm2): LayerNorm((300,), eps=1e-05, elementwise_affine=True)\n",
       "    (dropout1): Dropout(p=0.2, inplace=False)\n",
       "    (dropout2): Dropout(p=0.2, inplace=False)\n",
       "  )\n",
       "  (encoder): TransformerEncoder(\n",
       "    (layers): ModuleList(\n",
       "      (0): TransformerEncoderLayer(\n",
       "        (self_attn): MultiheadAttention(\n",
       "          (out_proj): _LinearWithBias(in_features=300, out_features=300, bias=True)\n",
       "        )\n",
       "        (linear1): Linear(in_features=300, out_features=300, bias=True)\n",
       "        (dropout): Dropout(p=0.2, inplace=False)\n",
       "        (linear2): Linear(in_features=300, out_features=300, bias=True)\n",
       "        (norm1): LayerNorm((300,), eps=1e-05, elementwise_affine=True)\n",
       "        (norm2): LayerNorm((300,), eps=1e-05, elementwise_affine=True)\n",
       "        (dropout1): Dropout(p=0.2, inplace=False)\n",
       "        (dropout2): Dropout(p=0.2, inplace=False)\n",
       "      )\n",
       "    )\n",
       "  )\n",
       "  (decoder_layer): TransformerDecoderLayer(\n",
       "    (self_attn): MultiheadAttention(\n",
       "      (out_proj): _LinearWithBias(in_features=300, out_features=300, bias=True)\n",
       "    )\n",
       "    (multihead_attn): MultiheadAttention(\n",
       "      (out_proj): _LinearWithBias(in_features=300, out_features=300, bias=True)\n",
       "    )\n",
       "    (linear1): Linear(in_features=300, out_features=300, bias=True)\n",
       "    (dropout): Dropout(p=0.2, inplace=False)\n",
       "    (linear2): Linear(in_features=300, out_features=300, bias=True)\n",
       "    (norm1): LayerNorm((300,), eps=1e-05, elementwise_affine=True)\n",
       "    (norm2): LayerNorm((300,), eps=1e-05, elementwise_affine=True)\n",
       "    (norm3): LayerNorm((300,), eps=1e-05, elementwise_affine=True)\n",
       "    (dropout1): Dropout(p=0.2, inplace=False)\n",
       "    (dropout2): Dropout(p=0.2, inplace=False)\n",
       "    (dropout3): Dropout(p=0.2, inplace=False)\n",
       "  )\n",
       "  (decoder): TransformerDecoder(\n",
       "    (layers): ModuleList(\n",
       "      (0): TransformerDecoderLayer(\n",
       "        (self_attn): MultiheadAttention(\n",
       "          (out_proj): _LinearWithBias(in_features=300, out_features=300, bias=True)\n",
       "        )\n",
       "        (multihead_attn): MultiheadAttention(\n",
       "          (out_proj): _LinearWithBias(in_features=300, out_features=300, bias=True)\n",
       "        )\n",
       "        (linear1): Linear(in_features=300, out_features=300, bias=True)\n",
       "        (dropout): Dropout(p=0.2, inplace=False)\n",
       "        (linear2): Linear(in_features=300, out_features=300, bias=True)\n",
       "        (norm1): LayerNorm((300,), eps=1e-05, elementwise_affine=True)\n",
       "        (norm2): LayerNorm((300,), eps=1e-05, elementwise_affine=True)\n",
       "        (norm3): LayerNorm((300,), eps=1e-05, elementwise_affine=True)\n",
       "        (dropout1): Dropout(p=0.2, inplace=False)\n",
       "        (dropout2): Dropout(p=0.2, inplace=False)\n",
       "        (dropout3): Dropout(p=0.2, inplace=False)\n",
       "      )\n",
       "    )\n",
       "  )\n",
       "  (final): Linear(in_features=300, out_features=5, bias=True)\n",
       "  (log_softmax): LogSoftmax(dim=None)\n",
       ")"
      ]
     },
     "execution_count": 7,
     "metadata": {},
     "output_type": "execute_result"
    }
   ],
   "source": [
    "model = Transformer(source_vocab_size, target_vocab_size, embed_size, num_head, num_ff, encoder_layers, decoder_layers, device=device)\n",
    "model.to(device)"
   ]
  },
  {
   "cell_type": "code",
   "execution_count": 8,
   "metadata": {},
   "outputs": [],
   "source": [
    "#for batch_idxx, (x, y) in enumerate(train_iterator):\n",
    "#    x = x.reshape(BATCH_SIZE, -1)\n",
    "#    y = y.reshape(BATCH_SIZE, -1)\n",
    "#    print(x)\n",
    "#    print(y)\n",
    "#    print(x.size())\n",
    "#    print(y.size())\n",
    "#    out = model(x.to(device), y.to(device))\n",
    "#    print(out)\n",
    "#    print(out.size())\n",
    "#    break"
   ]
  }
 ],
 "metadata": {
  "kernelspec": {
   "display_name": "Python 3",
   "language": "python",
   "name": "python3"
  },
  "language_info": {
   "codemirror_mode": {
    "name": "ipython",
    "version": 3
   },
   "file_extension": ".py",
   "mimetype": "text/x-python",
   "name": "python",
   "nbconvert_exporter": "python",
   "pygments_lexer": "ipython3",
   "version": "3.8.5"
  }
 },
 "nbformat": 4,
 "nbformat_minor": 4
}
