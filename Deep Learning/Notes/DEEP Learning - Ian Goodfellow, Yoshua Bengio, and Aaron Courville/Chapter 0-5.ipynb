{
 "cells": [
  {
   "cell_type": "markdown",
   "metadata": {},
   "source": [
    "# Part 1: Applied Math and Machine Learning Basics"
   ]
  },
  {
   "cell_type": "markdown",
   "metadata": {},
   "source": [
    "Different Tasks in Machine Learning: <br>\n",
    "1) Classification <br>\n",
    "2) Classification with missing inputs <br>\n",
    "3) Regression <br>\n",
    "4) Transcription <br>\n",
    "5) Machine translation <br>\n",
    "6) Structured output <br>\n",
    "7) Anomaly detection <br>\n",
    "8) Synthesis and sampling <br>\n",
    "9) Imputation of missing values <br>\n",
    "10) Denoising <br>\n",
    "11) Density estimation or probability mass function estimation"
   ]
  },
  {
   "cell_type": "code",
   "execution_count": null,
   "metadata": {},
   "outputs": [],
   "source": []
  }
 ],
 "metadata": {
  "kernelspec": {
   "display_name": "Python 3",
   "language": "python",
   "name": "python3"
  },
  "language_info": {
   "codemirror_mode": {
    "name": "ipython",
    "version": 3
   },
   "file_extension": ".py",
   "mimetype": "text/x-python",
   "name": "python",
   "nbconvert_exporter": "python",
   "pygments_lexer": "ipython3",
   "version": "3.7.7"
  }
 },
 "nbformat": 4,
 "nbformat_minor": 4
}
